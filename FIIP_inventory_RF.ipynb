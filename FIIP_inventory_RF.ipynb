{
  "cells": [
    {
      "cell_type": "markdown",
      "metadata": {
        "id": "view-in-github",
        "colab_type": "text"
      },
      "source": [
        "<a href=\"https://colab.research.google.com/github/BharathiNGopalsamy/FIIP/blob/main/FIIP_inventory_RF.ipynb\" target=\"_parent\"><img src=\"https://colab.research.google.com/assets/colab-badge.svg\" alt=\"Open In Colab\"/></a>"
      ]
    },
    {
      "cell_type": "code",
      "execution_count": null,
      "id": "1250f49d",
      "metadata": {
        "id": "1250f49d"
      },
      "outputs": [],
      "source": [
        "import pandas as pd\n",
        "from sklearn.cluster import KMeans\n",
        "import matplotlib.pyplot as plt"
      ]
    },
    {
      "cell_type": "code",
      "execution_count": null,
      "id": "f0e1f8bb",
      "metadata": {
        "id": "f0e1f8bb"
      },
      "outputs": [],
      "source": [
        "df = pd.read_excel('inventory.xlsx')"
      ]
    },
    {
      "cell_type": "code",
      "execution_count": null,
      "id": "2f5575b2",
      "metadata": {
        "id": "2f5575b2",
        "outputId": "472224a2-1faa-4994-e28b-b6f64836a7b6"
      },
      "outputs": [
        {
          "data": {
            "text/html": [
              "<div>\n",
              "<style scoped>\n",
              "    .dataframe tbody tr th:only-of-type {\n",
              "        vertical-align: middle;\n",
              "    }\n",
              "\n",
              "    .dataframe tbody tr th {\n",
              "        vertical-align: top;\n",
              "    }\n",
              "\n",
              "    .dataframe thead th {\n",
              "        text-align: right;\n",
              "    }\n",
              "</style>\n",
              "<table border=\"1\" class=\"dataframe\">\n",
              "  <thead>\n",
              "    <tr style=\"text-align: right;\">\n",
              "      <th></th>\n",
              "      <th>Sale_ID</th>\n",
              "      <th>Date</th>\n",
              "      <th>Store_ID</th>\n",
              "      <th>Product_ID</th>\n",
              "      <th>Units</th>\n",
              "      <th>Store_Name</th>\n",
              "      <th>Store_City</th>\n",
              "      <th>Store_Location</th>\n",
              "      <th>Store_Open_Date</th>\n",
              "      <th>Product_Name</th>\n",
              "      <th>Product_Category</th>\n",
              "      <th>Product_Cost</th>\n",
              "      <th>Product_Price</th>\n",
              "      <th>Stock_On_Hand</th>\n",
              "    </tr>\n",
              "  </thead>\n",
              "  <tbody>\n",
              "    <tr>\n",
              "      <th>0</th>\n",
              "      <td>1</td>\n",
              "      <td>2017-01-01</td>\n",
              "      <td>24</td>\n",
              "      <td>4</td>\n",
              "      <td>1</td>\n",
              "      <td>Maven Toys Aguascalientes 1</td>\n",
              "      <td>Aguascalientes</td>\n",
              "      <td>Downtown</td>\n",
              "      <td>2010-07-31</td>\n",
              "      <td>Chutes &amp; Ladders</td>\n",
              "      <td>Games</td>\n",
              "      <td>$9.99</td>\n",
              "      <td>$12.99</td>\n",
              "      <td>6</td>\n",
              "    </tr>\n",
              "    <tr>\n",
              "      <th>1</th>\n",
              "      <td>2</td>\n",
              "      <td>2017-01-01</td>\n",
              "      <td>28</td>\n",
              "      <td>1</td>\n",
              "      <td>1</td>\n",
              "      <td>Maven Toys Puebla 2</td>\n",
              "      <td>Puebla</td>\n",
              "      <td>Downtown</td>\n",
              "      <td>2011-04-01</td>\n",
              "      <td>Action Figure</td>\n",
              "      <td>Toys</td>\n",
              "      <td>$9.99</td>\n",
              "      <td>$15.99</td>\n",
              "      <td>27</td>\n",
              "    </tr>\n",
              "    <tr>\n",
              "      <th>2</th>\n",
              "      <td>3</td>\n",
              "      <td>2017-01-01</td>\n",
              "      <td>6</td>\n",
              "      <td>8</td>\n",
              "      <td>1</td>\n",
              "      <td>Maven Toys Mexicali 1</td>\n",
              "      <td>Mexicali</td>\n",
              "      <td>Commercial</td>\n",
              "      <td>2003-12-13</td>\n",
              "      <td>Deck Of Cards</td>\n",
              "      <td>Games</td>\n",
              "      <td>$3.99</td>\n",
              "      <td>$6.99</td>\n",
              "      <td>63</td>\n",
              "    </tr>\n",
              "    <tr>\n",
              "      <th>3</th>\n",
              "      <td>4</td>\n",
              "      <td>2017-01-01</td>\n",
              "      <td>48</td>\n",
              "      <td>7</td>\n",
              "      <td>1</td>\n",
              "      <td>Maven Toys Saltillo 2</td>\n",
              "      <td>Saltillo</td>\n",
              "      <td>Commercial</td>\n",
              "      <td>2016-03-23</td>\n",
              "      <td>Dart Gun</td>\n",
              "      <td>Sports &amp; Outdoors</td>\n",
              "      <td>$11.99</td>\n",
              "      <td>$15.99</td>\n",
              "      <td>5</td>\n",
              "    </tr>\n",
              "    <tr>\n",
              "      <th>4</th>\n",
              "      <td>5</td>\n",
              "      <td>2017-01-01</td>\n",
              "      <td>44</td>\n",
              "      <td>18</td>\n",
              "      <td>1</td>\n",
              "      <td>Maven Toys Puebla 3</td>\n",
              "      <td>Puebla</td>\n",
              "      <td>Residential</td>\n",
              "      <td>2014-12-27</td>\n",
              "      <td>Lego Bricks</td>\n",
              "      <td>Toys</td>\n",
              "      <td>$34.99</td>\n",
              "      <td>$39.99</td>\n",
              "      <td>11</td>\n",
              "    </tr>\n",
              "    <tr>\n",
              "      <th>...</th>\n",
              "      <td>...</td>\n",
              "      <td>...</td>\n",
              "      <td>...</td>\n",
              "      <td>...</td>\n",
              "      <td>...</td>\n",
              "      <td>...</td>\n",
              "      <td>...</td>\n",
              "      <td>...</td>\n",
              "      <td>...</td>\n",
              "      <td>...</td>\n",
              "      <td>...</td>\n",
              "      <td>...</td>\n",
              "      <td>...</td>\n",
              "      <td>...</td>\n",
              "    </tr>\n",
              "    <tr>\n",
              "      <th>829257</th>\n",
              "      <td>829258</td>\n",
              "      <td>2018-09-30</td>\n",
              "      <td>24</td>\n",
              "      <td>19</td>\n",
              "      <td>1</td>\n",
              "      <td>Maven Toys Aguascalientes 1</td>\n",
              "      <td>Aguascalientes</td>\n",
              "      <td>Downtown</td>\n",
              "      <td>2010-07-31</td>\n",
              "      <td>Magic Sand</td>\n",
              "      <td>Art &amp; Crafts</td>\n",
              "      <td>$13.99</td>\n",
              "      <td>$15.99</td>\n",
              "      <td>25</td>\n",
              "    </tr>\n",
              "    <tr>\n",
              "      <th>829258</th>\n",
              "      <td>829259</td>\n",
              "      <td>2018-09-30</td>\n",
              "      <td>16</td>\n",
              "      <td>35</td>\n",
              "      <td>1</td>\n",
              "      <td>Maven Toys San Luis Potosi 1</td>\n",
              "      <td>San Luis Potosi</td>\n",
              "      <td>Downtown</td>\n",
              "      <td>2007-05-19</td>\n",
              "      <td>Uno Card Game</td>\n",
              "      <td>Games</td>\n",
              "      <td>$3.99</td>\n",
              "      <td>$7.99</td>\n",
              "      <td>12</td>\n",
              "    </tr>\n",
              "    <tr>\n",
              "      <th>829259</th>\n",
              "      <td>829260</td>\n",
              "      <td>2018-09-30</td>\n",
              "      <td>22</td>\n",
              "      <td>19</td>\n",
              "      <td>1</td>\n",
              "      <td>Maven Toys Guanajuato 2</td>\n",
              "      <td>Guanajuato</td>\n",
              "      <td>Commercial</td>\n",
              "      <td>2010-03-29</td>\n",
              "      <td>Magic Sand</td>\n",
              "      <td>Art &amp; Crafts</td>\n",
              "      <td>$13.99</td>\n",
              "      <td>$15.99</td>\n",
              "      <td>25</td>\n",
              "    </tr>\n",
              "    <tr>\n",
              "      <th>829260</th>\n",
              "      <td>829261</td>\n",
              "      <td>2018-09-30</td>\n",
              "      <td>13</td>\n",
              "      <td>2</td>\n",
              "      <td>2</td>\n",
              "      <td>Maven Toys Mexicali 2</td>\n",
              "      <td>Mexicali</td>\n",
              "      <td>Downtown</td>\n",
              "      <td>2006-08-30</td>\n",
              "      <td>Animal Figures</td>\n",
              "      <td>Toys</td>\n",
              "      <td>$9.99</td>\n",
              "      <td>$12.99</td>\n",
              "      <td>0</td>\n",
              "    </tr>\n",
              "    <tr>\n",
              "      <th>829261</th>\n",
              "      <td>829262</td>\n",
              "      <td>2018-09-30</td>\n",
              "      <td>32</td>\n",
              "      <td>6</td>\n",
              "      <td>1</td>\n",
              "      <td>Maven Toys Hermosillo 1</td>\n",
              "      <td>Hermosillo</td>\n",
              "      <td>Residential</td>\n",
              "      <td>2012-08-31</td>\n",
              "      <td>Colorbuds</td>\n",
              "      <td>Electronics</td>\n",
              "      <td>$6.99</td>\n",
              "      <td>$14.99</td>\n",
              "      <td>79</td>\n",
              "    </tr>\n",
              "  </tbody>\n",
              "</table>\n",
              "<p>829262 rows × 14 columns</p>\n",
              "</div>"
            ],
            "text/plain": [
              "        Sale_ID       Date  Store_ID  Product_ID  Units  \\\n",
              "0             1 2017-01-01        24           4      1   \n",
              "1             2 2017-01-01        28           1      1   \n",
              "2             3 2017-01-01         6           8      1   \n",
              "3             4 2017-01-01        48           7      1   \n",
              "4             5 2017-01-01        44          18      1   \n",
              "...         ...        ...       ...         ...    ...   \n",
              "829257   829258 2018-09-30        24          19      1   \n",
              "829258   829259 2018-09-30        16          35      1   \n",
              "829259   829260 2018-09-30        22          19      1   \n",
              "829260   829261 2018-09-30        13           2      2   \n",
              "829261   829262 2018-09-30        32           6      1   \n",
              "\n",
              "                          Store_Name       Store_City Store_Location  \\\n",
              "0        Maven Toys Aguascalientes 1   Aguascalientes       Downtown   \n",
              "1                Maven Toys Puebla 2           Puebla       Downtown   \n",
              "2              Maven Toys Mexicali 1         Mexicali     Commercial   \n",
              "3              Maven Toys Saltillo 2         Saltillo     Commercial   \n",
              "4                Maven Toys Puebla 3           Puebla    Residential   \n",
              "...                              ...              ...            ...   \n",
              "829257   Maven Toys Aguascalientes 1   Aguascalientes       Downtown   \n",
              "829258  Maven Toys San Luis Potosi 1  San Luis Potosi       Downtown   \n",
              "829259       Maven Toys Guanajuato 2       Guanajuato     Commercial   \n",
              "829260         Maven Toys Mexicali 2         Mexicali       Downtown   \n",
              "829261       Maven Toys Hermosillo 1       Hermosillo    Residential   \n",
              "\n",
              "       Store_Open_Date      Product_Name   Product_Category Product_Cost  \\\n",
              "0           2010-07-31  Chutes & Ladders              Games       $9.99    \n",
              "1           2011-04-01     Action Figure               Toys       $9.99    \n",
              "2           2003-12-13     Deck Of Cards              Games       $3.99    \n",
              "3           2016-03-23          Dart Gun  Sports & Outdoors      $11.99    \n",
              "4           2014-12-27       Lego Bricks               Toys      $34.99    \n",
              "...                ...               ...                ...          ...   \n",
              "829257      2010-07-31        Magic Sand       Art & Crafts      $13.99    \n",
              "829258      2007-05-19     Uno Card Game              Games       $3.99    \n",
              "829259      2010-03-29        Magic Sand       Art & Crafts      $13.99    \n",
              "829260      2006-08-30    Animal Figures               Toys       $9.99    \n",
              "829261      2012-08-31         Colorbuds        Electronics       $6.99    \n",
              "\n",
              "       Product_Price  Stock_On_Hand  \n",
              "0            $12.99               6  \n",
              "1            $15.99              27  \n",
              "2             $6.99              63  \n",
              "3            $15.99               5  \n",
              "4            $39.99              11  \n",
              "...              ...            ...  \n",
              "829257       $15.99              25  \n",
              "829258        $7.99              12  \n",
              "829259       $15.99              25  \n",
              "829260       $12.99               0  \n",
              "829261       $14.99              79  \n",
              "\n",
              "[829262 rows x 14 columns]"
            ]
          },
          "execution_count": 3,
          "metadata": {},
          "output_type": "execute_result"
        }
      ],
      "source": [
        "df"
      ]
    },
    {
      "cell_type": "code",
      "execution_count": null,
      "id": "fcd5351f",
      "metadata": {
        "id": "fcd5351f"
      },
      "outputs": [],
      "source": [
        "df = df.drop(['Date','Store_Open_Date'],axis=1)\n"
      ]
    },
    {
      "cell_type": "code",
      "execution_count": null,
      "id": "0e20cd91",
      "metadata": {
        "id": "0e20cd91",
        "outputId": "f76ca6f8-ad5e-4b5c-eaac-8cbdfc8c6bf6"
      },
      "outputs": [
        {
          "data": {
            "text/plain": [
              "Sale_ID              int64\n",
              "Store_ID             int64\n",
              "Product_ID           int64\n",
              "Units                int64\n",
              "Store_Name          object\n",
              "Store_City          object\n",
              "Store_Location      object\n",
              "Product_Name        object\n",
              "Product_Category    object\n",
              "Product_Cost        object\n",
              "Product_Price       object\n",
              "Stock_On_Hand        int64\n",
              "dtype: object"
            ]
          },
          "execution_count": 5,
          "metadata": {},
          "output_type": "execute_result"
        }
      ],
      "source": [
        "df.dtypes"
      ]
    },
    {
      "cell_type": "code",
      "execution_count": null,
      "id": "0f8200d9",
      "metadata": {
        "id": "0f8200d9"
      },
      "outputs": [],
      "source": [
        "df['Store_Name'] = df.Store_Name.astype('category')\n",
        "df['Store_City'] = df.Store_City.astype('category')\n",
        "df['Store_Location'] = df.Store_Location.astype('category')\n",
        "df['Product_Name'] = df.Product_Name.astype('category')\n",
        "df['Product_Category'] = df.Product_Category.astype('category')\n",
        "df[df.columns[9:11]] = df[df.columns[9:11]].replace('[\\$,]', '', regex=True).astype(float)"
      ]
    },
    {
      "cell_type": "code",
      "execution_count": null,
      "id": "b08de982",
      "metadata": {
        "id": "b08de982",
        "outputId": "cd25878b-d0bc-4287-c135-08f5a1eefc5a"
      },
      "outputs": [
        {
          "data": {
            "text/html": [
              "<div>\n",
              "<style scoped>\n",
              "    .dataframe tbody tr th:only-of-type {\n",
              "        vertical-align: middle;\n",
              "    }\n",
              "\n",
              "    .dataframe tbody tr th {\n",
              "        vertical-align: top;\n",
              "    }\n",
              "\n",
              "    .dataframe thead th {\n",
              "        text-align: right;\n",
              "    }\n",
              "</style>\n",
              "<table border=\"1\" class=\"dataframe\">\n",
              "  <thead>\n",
              "    <tr style=\"text-align: right;\">\n",
              "      <th></th>\n",
              "      <th>Sale_ID</th>\n",
              "      <th>Store_ID</th>\n",
              "      <th>Product_ID</th>\n",
              "      <th>Units</th>\n",
              "      <th>Store_Name</th>\n",
              "      <th>Store_City</th>\n",
              "      <th>Store_Location</th>\n",
              "      <th>Product_Name</th>\n",
              "      <th>Product_Category</th>\n",
              "      <th>Product_Cost</th>\n",
              "      <th>Product_Price</th>\n",
              "      <th>Stock_On_Hand</th>\n",
              "    </tr>\n",
              "  </thead>\n",
              "  <tbody>\n",
              "    <tr>\n",
              "      <th>0</th>\n",
              "      <td>1</td>\n",
              "      <td>24</td>\n",
              "      <td>4</td>\n",
              "      <td>1</td>\n",
              "      <td>Maven Toys Aguascalientes 1</td>\n",
              "      <td>Aguascalientes</td>\n",
              "      <td>Downtown</td>\n",
              "      <td>Chutes &amp; Ladders</td>\n",
              "      <td>Games</td>\n",
              "      <td>9.99</td>\n",
              "      <td>12.99</td>\n",
              "      <td>6</td>\n",
              "    </tr>\n",
              "    <tr>\n",
              "      <th>1</th>\n",
              "      <td>2</td>\n",
              "      <td>28</td>\n",
              "      <td>1</td>\n",
              "      <td>1</td>\n",
              "      <td>Maven Toys Puebla 2</td>\n",
              "      <td>Puebla</td>\n",
              "      <td>Downtown</td>\n",
              "      <td>Action Figure</td>\n",
              "      <td>Toys</td>\n",
              "      <td>9.99</td>\n",
              "      <td>15.99</td>\n",
              "      <td>27</td>\n",
              "    </tr>\n",
              "    <tr>\n",
              "      <th>2</th>\n",
              "      <td>3</td>\n",
              "      <td>6</td>\n",
              "      <td>8</td>\n",
              "      <td>1</td>\n",
              "      <td>Maven Toys Mexicali 1</td>\n",
              "      <td>Mexicali</td>\n",
              "      <td>Commercial</td>\n",
              "      <td>Deck Of Cards</td>\n",
              "      <td>Games</td>\n",
              "      <td>3.99</td>\n",
              "      <td>6.99</td>\n",
              "      <td>63</td>\n",
              "    </tr>\n",
              "    <tr>\n",
              "      <th>3</th>\n",
              "      <td>4</td>\n",
              "      <td>48</td>\n",
              "      <td>7</td>\n",
              "      <td>1</td>\n",
              "      <td>Maven Toys Saltillo 2</td>\n",
              "      <td>Saltillo</td>\n",
              "      <td>Commercial</td>\n",
              "      <td>Dart Gun</td>\n",
              "      <td>Sports &amp; Outdoors</td>\n",
              "      <td>11.99</td>\n",
              "      <td>15.99</td>\n",
              "      <td>5</td>\n",
              "    </tr>\n",
              "    <tr>\n",
              "      <th>4</th>\n",
              "      <td>5</td>\n",
              "      <td>44</td>\n",
              "      <td>18</td>\n",
              "      <td>1</td>\n",
              "      <td>Maven Toys Puebla 3</td>\n",
              "      <td>Puebla</td>\n",
              "      <td>Residential</td>\n",
              "      <td>Lego Bricks</td>\n",
              "      <td>Toys</td>\n",
              "      <td>34.99</td>\n",
              "      <td>39.99</td>\n",
              "      <td>11</td>\n",
              "    </tr>\n",
              "    <tr>\n",
              "      <th>...</th>\n",
              "      <td>...</td>\n",
              "      <td>...</td>\n",
              "      <td>...</td>\n",
              "      <td>...</td>\n",
              "      <td>...</td>\n",
              "      <td>...</td>\n",
              "      <td>...</td>\n",
              "      <td>...</td>\n",
              "      <td>...</td>\n",
              "      <td>...</td>\n",
              "      <td>...</td>\n",
              "      <td>...</td>\n",
              "    </tr>\n",
              "    <tr>\n",
              "      <th>829257</th>\n",
              "      <td>829258</td>\n",
              "      <td>24</td>\n",
              "      <td>19</td>\n",
              "      <td>1</td>\n",
              "      <td>Maven Toys Aguascalientes 1</td>\n",
              "      <td>Aguascalientes</td>\n",
              "      <td>Downtown</td>\n",
              "      <td>Magic Sand</td>\n",
              "      <td>Art &amp; Crafts</td>\n",
              "      <td>13.99</td>\n",
              "      <td>15.99</td>\n",
              "      <td>25</td>\n",
              "    </tr>\n",
              "    <tr>\n",
              "      <th>829258</th>\n",
              "      <td>829259</td>\n",
              "      <td>16</td>\n",
              "      <td>35</td>\n",
              "      <td>1</td>\n",
              "      <td>Maven Toys San Luis Potosi 1</td>\n",
              "      <td>San Luis Potosi</td>\n",
              "      <td>Downtown</td>\n",
              "      <td>Uno Card Game</td>\n",
              "      <td>Games</td>\n",
              "      <td>3.99</td>\n",
              "      <td>7.99</td>\n",
              "      <td>12</td>\n",
              "    </tr>\n",
              "    <tr>\n",
              "      <th>829259</th>\n",
              "      <td>829260</td>\n",
              "      <td>22</td>\n",
              "      <td>19</td>\n",
              "      <td>1</td>\n",
              "      <td>Maven Toys Guanajuato 2</td>\n",
              "      <td>Guanajuato</td>\n",
              "      <td>Commercial</td>\n",
              "      <td>Magic Sand</td>\n",
              "      <td>Art &amp; Crafts</td>\n",
              "      <td>13.99</td>\n",
              "      <td>15.99</td>\n",
              "      <td>25</td>\n",
              "    </tr>\n",
              "    <tr>\n",
              "      <th>829260</th>\n",
              "      <td>829261</td>\n",
              "      <td>13</td>\n",
              "      <td>2</td>\n",
              "      <td>2</td>\n",
              "      <td>Maven Toys Mexicali 2</td>\n",
              "      <td>Mexicali</td>\n",
              "      <td>Downtown</td>\n",
              "      <td>Animal Figures</td>\n",
              "      <td>Toys</td>\n",
              "      <td>9.99</td>\n",
              "      <td>12.99</td>\n",
              "      <td>0</td>\n",
              "    </tr>\n",
              "    <tr>\n",
              "      <th>829261</th>\n",
              "      <td>829262</td>\n",
              "      <td>32</td>\n",
              "      <td>6</td>\n",
              "      <td>1</td>\n",
              "      <td>Maven Toys Hermosillo 1</td>\n",
              "      <td>Hermosillo</td>\n",
              "      <td>Residential</td>\n",
              "      <td>Colorbuds</td>\n",
              "      <td>Electronics</td>\n",
              "      <td>6.99</td>\n",
              "      <td>14.99</td>\n",
              "      <td>79</td>\n",
              "    </tr>\n",
              "  </tbody>\n",
              "</table>\n",
              "<p>829262 rows × 12 columns</p>\n",
              "</div>"
            ],
            "text/plain": [
              "        Sale_ID  Store_ID  Product_ID  Units                    Store_Name  \\\n",
              "0             1        24           4      1   Maven Toys Aguascalientes 1   \n",
              "1             2        28           1      1           Maven Toys Puebla 2   \n",
              "2             3         6           8      1         Maven Toys Mexicali 1   \n",
              "3             4        48           7      1         Maven Toys Saltillo 2   \n",
              "4             5        44          18      1           Maven Toys Puebla 3   \n",
              "...         ...       ...         ...    ...                           ...   \n",
              "829257   829258        24          19      1   Maven Toys Aguascalientes 1   \n",
              "829258   829259        16          35      1  Maven Toys San Luis Potosi 1   \n",
              "829259   829260        22          19      1       Maven Toys Guanajuato 2   \n",
              "829260   829261        13           2      2         Maven Toys Mexicali 2   \n",
              "829261   829262        32           6      1       Maven Toys Hermosillo 1   \n",
              "\n",
              "             Store_City Store_Location      Product_Name   Product_Category  \\\n",
              "0        Aguascalientes       Downtown  Chutes & Ladders              Games   \n",
              "1                Puebla       Downtown     Action Figure               Toys   \n",
              "2              Mexicali     Commercial     Deck Of Cards              Games   \n",
              "3              Saltillo     Commercial          Dart Gun  Sports & Outdoors   \n",
              "4                Puebla    Residential       Lego Bricks               Toys   \n",
              "...                 ...            ...               ...                ...   \n",
              "829257   Aguascalientes       Downtown        Magic Sand       Art & Crafts   \n",
              "829258  San Luis Potosi       Downtown     Uno Card Game              Games   \n",
              "829259       Guanajuato     Commercial        Magic Sand       Art & Crafts   \n",
              "829260         Mexicali       Downtown    Animal Figures               Toys   \n",
              "829261       Hermosillo    Residential         Colorbuds        Electronics   \n",
              "\n",
              "        Product_Cost  Product_Price  Stock_On_Hand  \n",
              "0               9.99          12.99              6  \n",
              "1               9.99          15.99             27  \n",
              "2               3.99           6.99             63  \n",
              "3              11.99          15.99              5  \n",
              "4              34.99          39.99             11  \n",
              "...              ...            ...            ...  \n",
              "829257         13.99          15.99             25  \n",
              "829258          3.99           7.99             12  \n",
              "829259         13.99          15.99             25  \n",
              "829260          9.99          12.99              0  \n",
              "829261          6.99          14.99             79  \n",
              "\n",
              "[829262 rows x 12 columns]"
            ]
          },
          "execution_count": 7,
          "metadata": {},
          "output_type": "execute_result"
        }
      ],
      "source": [
        "df"
      ]
    },
    {
      "cell_type": "code",
      "execution_count": null,
      "id": "ebb33f58",
      "metadata": {
        "id": "ebb33f58",
        "outputId": "5ca31eb2-b07d-4320-ef6d-32317efdd474"
      },
      "outputs": [
        {
          "data": {
            "text/plain": [
              "Sale_ID                int64\n",
              "Store_ID               int64\n",
              "Product_ID             int64\n",
              "Units                  int64\n",
              "Store_Name          category\n",
              "Store_City          category\n",
              "Store_Location      category\n",
              "Product_Name        category\n",
              "Product_Category    category\n",
              "Product_Cost         float64\n",
              "Product_Price        float64\n",
              "Stock_On_Hand          int64\n",
              "dtype: object"
            ]
          },
          "execution_count": 8,
          "metadata": {},
          "output_type": "execute_result"
        }
      ],
      "source": [
        "df.dtypes"
      ]
    },
    {
      "cell_type": "code",
      "execution_count": null,
      "id": "30de3422",
      "metadata": {
        "id": "30de3422",
        "outputId": "29c053e1-76b8-412d-ee6c-a5bbce28db09"
      },
      "outputs": [
        {
          "data": {
            "text/plain": [
              "Sale_ID               int64\n",
              "Store_ID              int64\n",
              "Product_ID            int64\n",
              "Units                 int64\n",
              "Store_Name             int8\n",
              "Store_City             int8\n",
              "Store_Location         int8\n",
              "Product_Name           int8\n",
              "Product_Category       int8\n",
              "Product_Cost        float64\n",
              "Product_Price       float64\n",
              "Stock_On_Hand         int64\n",
              "dtype: object"
            ]
          },
          "execution_count": 9,
          "metadata": {},
          "output_type": "execute_result"
        }
      ],
      "source": [
        "for col_name in df.columns:\n",
        "    if(df[col_name].dtype.name == 'category'):\n",
        "    #df[col_name]= df[col_name].astype('category')\n",
        "        df[col_name] = df[col_name].cat.codes\n",
        "df.dtypes"
      ]
    },
    {
      "cell_type": "code",
      "execution_count": null,
      "id": "3870e754",
      "metadata": {
        "id": "3870e754",
        "outputId": "8de73fea-73d6-481a-8d3e-4ec87f847c29"
      },
      "outputs": [
        {
          "data": {
            "text/html": [
              "<div>\n",
              "<style scoped>\n",
              "    .dataframe tbody tr th:only-of-type {\n",
              "        vertical-align: middle;\n",
              "    }\n",
              "\n",
              "    .dataframe tbody tr th {\n",
              "        vertical-align: top;\n",
              "    }\n",
              "\n",
              "    .dataframe thead th {\n",
              "        text-align: right;\n",
              "    }\n",
              "</style>\n",
              "<table border=\"1\" class=\"dataframe\">\n",
              "  <thead>\n",
              "    <tr style=\"text-align: right;\">\n",
              "      <th></th>\n",
              "      <th>Sale_ID</th>\n",
              "      <th>Store_ID</th>\n",
              "      <th>Product_ID</th>\n",
              "      <th>Units</th>\n",
              "      <th>Store_Name</th>\n",
              "      <th>Store_City</th>\n",
              "      <th>Store_Location</th>\n",
              "      <th>Product_Name</th>\n",
              "      <th>Product_Category</th>\n",
              "      <th>Product_Cost</th>\n",
              "      <th>Product_Price</th>\n",
              "      <th>Stock_On_Hand</th>\n",
              "    </tr>\n",
              "  </thead>\n",
              "  <tbody>\n",
              "    <tr>\n",
              "      <th>0</th>\n",
              "      <td>1</td>\n",
              "      <td>24</td>\n",
              "      <td>4</td>\n",
              "      <td>1</td>\n",
              "      <td>0</td>\n",
              "      <td>0</td>\n",
              "      <td>2</td>\n",
              "      <td>3</td>\n",
              "      <td>2</td>\n",
              "      <td>9.99</td>\n",
              "      <td>12.99</td>\n",
              "      <td>6</td>\n",
              "    </tr>\n",
              "    <tr>\n",
              "      <th>1</th>\n",
              "      <td>2</td>\n",
              "      <td>28</td>\n",
              "      <td>1</td>\n",
              "      <td>1</td>\n",
              "      <td>37</td>\n",
              "      <td>20</td>\n",
              "      <td>2</td>\n",
              "      <td>0</td>\n",
              "      <td>4</td>\n",
              "      <td>9.99</td>\n",
              "      <td>15.99</td>\n",
              "      <td>27</td>\n",
              "    </tr>\n",
              "    <tr>\n",
              "      <th>2</th>\n",
              "      <td>3</td>\n",
              "      <td>6</td>\n",
              "      <td>8</td>\n",
              "      <td>1</td>\n",
              "      <td>27</td>\n",
              "      <td>15</td>\n",
              "      <td>1</td>\n",
              "      <td>7</td>\n",
              "      <td>2</td>\n",
              "      <td>3.99</td>\n",
              "      <td>6.99</td>\n",
              "      <td>63</td>\n",
              "    </tr>\n",
              "    <tr>\n",
              "      <th>3</th>\n",
              "      <td>4</td>\n",
              "      <td>48</td>\n",
              "      <td>7</td>\n",
              "      <td>1</td>\n",
              "      <td>40</td>\n",
              "      <td>21</td>\n",
              "      <td>1</td>\n",
              "      <td>6</td>\n",
              "      <td>3</td>\n",
              "      <td>11.99</td>\n",
              "      <td>15.99</td>\n",
              "      <td>5</td>\n",
              "    </tr>\n",
              "    <tr>\n",
              "      <th>4</th>\n",
              "      <td>5</td>\n",
              "      <td>44</td>\n",
              "      <td>18</td>\n",
              "      <td>1</td>\n",
              "      <td>38</td>\n",
              "      <td>20</td>\n",
              "      <td>3</td>\n",
              "      <td>17</td>\n",
              "      <td>4</td>\n",
              "      <td>34.99</td>\n",
              "      <td>39.99</td>\n",
              "      <td>11</td>\n",
              "    </tr>\n",
              "    <tr>\n",
              "      <th>...</th>\n",
              "      <td>...</td>\n",
              "      <td>...</td>\n",
              "      <td>...</td>\n",
              "      <td>...</td>\n",
              "      <td>...</td>\n",
              "      <td>...</td>\n",
              "      <td>...</td>\n",
              "      <td>...</td>\n",
              "      <td>...</td>\n",
              "      <td>...</td>\n",
              "      <td>...</td>\n",
              "      <td>...</td>\n",
              "    </tr>\n",
              "    <tr>\n",
              "      <th>829257</th>\n",
              "      <td>829258</td>\n",
              "      <td>24</td>\n",
              "      <td>19</td>\n",
              "      <td>1</td>\n",
              "      <td>0</td>\n",
              "      <td>0</td>\n",
              "      <td>2</td>\n",
              "      <td>18</td>\n",
              "      <td>0</td>\n",
              "      <td>13.99</td>\n",
              "      <td>15.99</td>\n",
              "      <td>25</td>\n",
              "    </tr>\n",
              "    <tr>\n",
              "      <th>829258</th>\n",
              "      <td>829259</td>\n",
              "      <td>16</td>\n",
              "      <td>35</td>\n",
              "      <td>1</td>\n",
              "      <td>41</td>\n",
              "      <td>22</td>\n",
              "      <td>2</td>\n",
              "      <td>34</td>\n",
              "      <td>2</td>\n",
              "      <td>3.99</td>\n",
              "      <td>7.99</td>\n",
              "      <td>12</td>\n",
              "    </tr>\n",
              "    <tr>\n",
              "      <th>829259</th>\n",
              "      <td>829260</td>\n",
              "      <td>22</td>\n",
              "      <td>19</td>\n",
              "      <td>1</td>\n",
              "      <td>20</td>\n",
              "      <td>11</td>\n",
              "      <td>1</td>\n",
              "      <td>18</td>\n",
              "      <td>0</td>\n",
              "      <td>13.99</td>\n",
              "      <td>15.99</td>\n",
              "      <td>25</td>\n",
              "    </tr>\n",
              "    <tr>\n",
              "      <th>829260</th>\n",
              "      <td>829261</td>\n",
              "      <td>13</td>\n",
              "      <td>2</td>\n",
              "      <td>2</td>\n",
              "      <td>28</td>\n",
              "      <td>15</td>\n",
              "      <td>2</td>\n",
              "      <td>1</td>\n",
              "      <td>4</td>\n",
              "      <td>9.99</td>\n",
              "      <td>12.99</td>\n",
              "      <td>0</td>\n",
              "    </tr>\n",
              "    <tr>\n",
              "      <th>829261</th>\n",
              "      <td>829262</td>\n",
              "      <td>32</td>\n",
              "      <td>6</td>\n",
              "      <td>1</td>\n",
              "      <td>22</td>\n",
              "      <td>12</td>\n",
              "      <td>3</td>\n",
              "      <td>5</td>\n",
              "      <td>1</td>\n",
              "      <td>6.99</td>\n",
              "      <td>14.99</td>\n",
              "      <td>79</td>\n",
              "    </tr>\n",
              "  </tbody>\n",
              "</table>\n",
              "<p>829262 rows × 12 columns</p>\n",
              "</div>"
            ],
            "text/plain": [
              "        Sale_ID  Store_ID  Product_ID  Units  Store_Name  Store_City  \\\n",
              "0             1        24           4      1           0           0   \n",
              "1             2        28           1      1          37          20   \n",
              "2             3         6           8      1          27          15   \n",
              "3             4        48           7      1          40          21   \n",
              "4             5        44          18      1          38          20   \n",
              "...         ...       ...         ...    ...         ...         ...   \n",
              "829257   829258        24          19      1           0           0   \n",
              "829258   829259        16          35      1          41          22   \n",
              "829259   829260        22          19      1          20          11   \n",
              "829260   829261        13           2      2          28          15   \n",
              "829261   829262        32           6      1          22          12   \n",
              "\n",
              "        Store_Location  Product_Name  Product_Category  Product_Cost  \\\n",
              "0                    2             3                 2          9.99   \n",
              "1                    2             0                 4          9.99   \n",
              "2                    1             7                 2          3.99   \n",
              "3                    1             6                 3         11.99   \n",
              "4                    3            17                 4         34.99   \n",
              "...                ...           ...               ...           ...   \n",
              "829257               2            18                 0         13.99   \n",
              "829258               2            34                 2          3.99   \n",
              "829259               1            18                 0         13.99   \n",
              "829260               2             1                 4          9.99   \n",
              "829261               3             5                 1          6.99   \n",
              "\n",
              "        Product_Price  Stock_On_Hand  \n",
              "0               12.99              6  \n",
              "1               15.99             27  \n",
              "2                6.99             63  \n",
              "3               15.99              5  \n",
              "4               39.99             11  \n",
              "...               ...            ...  \n",
              "829257          15.99             25  \n",
              "829258           7.99             12  \n",
              "829259          15.99             25  \n",
              "829260          12.99              0  \n",
              "829261          14.99             79  \n",
              "\n",
              "[829262 rows x 12 columns]"
            ]
          },
          "execution_count": 10,
          "metadata": {},
          "output_type": "execute_result"
        }
      ],
      "source": [
        "df"
      ]
    },
    {
      "cell_type": "code",
      "execution_count": null,
      "id": "90928eec",
      "metadata": {
        "id": "90928eec",
        "outputId": "dfe4288a-317c-4e3f-ba0c-c06a155e247f"
      },
      "outputs": [
        {
          "data": {
            "text/plain": [
              "KMeans(n_clusters=2)"
            ]
          },
          "execution_count": 11,
          "metadata": {},
          "output_type": "execute_result"
        }
      ],
      "source": [
        "kmeans = KMeans(2)\n",
        "kmeans.fit(df[['Units', 'Stock_On_Hand']])"
      ]
    },
    {
      "cell_type": "code",
      "execution_count": null,
      "id": "6e6dbe8f",
      "metadata": {
        "id": "6e6dbe8f",
        "outputId": "44c4f071-65eb-46a1-d315-ba5b0f1557b0"
      },
      "outputs": [
        {
          "data": {
            "text/plain": [
              "array([0, 0, 1, ..., 0, 0, 1])"
            ]
          },
          "execution_count": 12,
          "metadata": {},
          "output_type": "execute_result"
        }
      ],
      "source": [
        "identified_labels = kmeans.fit_predict(df[['Units', 'Stock_On_Hand']])\n",
        "identified_labels"
      ]
    },
    {
      "cell_type": "code",
      "execution_count": null,
      "id": "594d80d2",
      "metadata": {
        "id": "594d80d2",
        "outputId": "3477a406-c318-4911-b7ae-db522ece50e5"
      },
      "outputs": [
        {
          "data": {
            "text/plain": [
              "<matplotlib.collections.PathCollection at 0x2418f349820>"
            ]
          },
          "execution_count": 13,
          "metadata": {},
          "output_type": "execute_result"
        },
        {
          "data": {
            "image/png": "[encoded data removed]",
            "text/plain": [
              "<Figure size 432x288 with 1 Axes>"
            ]
          },
          "metadata": {
            "needs_background": "light"
          },
          "output_type": "display_data"
        }
      ],
      "source": [
        "df_with_clusters = df.copy()\n",
        "df_with_clusters['Clusters'] = identified_labels \n",
        "plt.scatter(df_with_clusters['Product_Name'],df_with_clusters['Units'],c=df_with_clusters['Clusters'],cmap='rainbow')"
      ]
    },
    {
      "cell_type": "code",
      "execution_count": null,
      "id": "7d0c14fa",
      "metadata": {
        "id": "7d0c14fa"
      },
      "outputs": [],
      "source": [
        "df_with_clusters.to_excel(\"output_RF.xlsx\")"
      ]
    },
    {
      "cell_type": "code",
      "execution_count": null,
      "id": "018d3029",
      "metadata": {
        "id": "018d3029"
      },
      "outputs": [],
      "source": [
        "X = df_with_clusters[['Units', 'Stock_On_Hand']].values\n",
        "y = df_with_clusters[['Clusters']].values"
      ]
    },
    {
      "cell_type": "code",
      "execution_count": null,
      "id": "ca0a81be",
      "metadata": {
        "id": "ca0a81be",
        "outputId": "8173e1d5-3801-4eb7-f8e6-5de16f083235"
      },
      "outputs": [
        {
          "data": {
            "text/plain": [
              "(array([[ 1,  6],\n",
              "        [ 1, 27],\n",
              "        [ 1, 63],\n",
              "        ...,\n",
              "        [ 1, 25],\n",
              "        [ 2,  0],\n",
              "        [ 1, 79]], dtype=int64),\n",
              " array([[0],\n",
              "        [0],\n",
              "        [1],\n",
              "        ...,\n",
              "        [0],\n",
              "        [0],\n",
              "        [1]]))"
            ]
          },
          "execution_count": 16,
          "metadata": {},
          "output_type": "execute_result"
        }
      ],
      "source": [
        "X,y"
      ]
    },
    {
      "cell_type": "code",
      "execution_count": null,
      "id": "306de933",
      "metadata": {
        "id": "306de933"
      },
      "outputs": [],
      "source": [
        "from sklearn.model_selection import train_test_split\n",
        "X_train, X_test, y_train, y_test = train_test_split(X, y, test_size = 0.20, random_state = 0)"
      ]
    },
    {
      "cell_type": "code",
      "execution_count": null,
      "id": "91bc0681",
      "metadata": {
        "id": "91bc0681"
      },
      "outputs": [],
      "source": [
        "from sklearn.preprocessing import StandardScaler\n",
        "sc = StandardScaler()\n",
        "X_train = sc.fit_transform(X_train)\n",
        "X_test = sc.transform(X_test)"
      ]
    },
    {
      "cell_type": "code",
      "execution_count": null,
      "id": "3618a337",
      "metadata": {
        "id": "3618a337",
        "outputId": "b27deb7d-9023-4acd-cd77-68e14cc962b6"
      },
      "outputs": [
        {
          "name": "stderr",
          "output_type": "stream",
          "text": [
            "C:\\Users\\Bharathi\\AppData\\Local\\Temp/ipykernel_3268/3541230381.py:3: DataConversionWarning: A column-vector y was passed when a 1d array was expected. Please change the shape of y to (n_samples,), for example using ravel().\n",
            "  rf_model.fit(X_train,y_train)\n"
          ]
        },
        {
          "data": {
            "text/plain": [
              "RandomForestClassifier(n_estimators=50, random_state=44)"
            ]
          },
          "execution_count": 19,
          "metadata": {},
          "output_type": "execute_result"
        }
      ],
      "source": [
        "from sklearn.ensemble import RandomForestClassifier\n",
        "rf_model = RandomForestClassifier(n_estimators=50,max_features=\"auto\",random_state=44)\n",
        "rf_model.fit(X_train,y_train)"
      ]
    },
    {
      "cell_type": "code",
      "execution_count": null,
      "id": "0c5ebfdd",
      "metadata": {
        "id": "0c5ebfdd"
      },
      "outputs": [],
      "source": [
        "y_pred = rf_model.predict(X_test)"
      ]
    },
    {
      "cell_type": "code",
      "execution_count": null,
      "id": "795fedee",
      "metadata": {
        "id": "795fedee"
      },
      "outputs": [],
      "source": [
        "from sklearn.metrics import confusion_matrix, accuracy_score\n",
        "ac = accuracy_score(y_test,y_pred)\n",
        "cm = confusion_matrix(y_test, y_pred)"
      ]
    },
    {
      "cell_type": "code",
      "execution_count": null,
      "id": "55f0e298",
      "metadata": {
        "id": "55f0e298",
        "outputId": "8059276f-4872-4c34-bb9e-dda50ed59186"
      },
      "outputs": [
        {
          "data": {
            "text/plain": [
              "1.0"
            ]
          },
          "execution_count": 22,
          "metadata": {},
          "output_type": "execute_result"
        }
      ],
      "source": [
        "ac"
      ]
    },
    {
      "cell_type": "code",
      "execution_count": null,
      "id": "29e01208",
      "metadata": {
        "id": "29e01208",
        "outputId": "68a562a7-277b-4a38-8cbc-47e859b9d0d6"
      },
      "outputs": [
        {
          "data": {
            "text/plain": [
              "array([[116744,      0],\n",
              "       [     0,  49109]], dtype=int64)"
            ]
          },
          "execution_count": 23,
          "metadata": {},
          "output_type": "execute_result"
        }
      ],
      "source": [
        "cm"
      ]
    },
    {
      "cell_type": "code",
      "execution_count": null,
      "id": "20d97610",
      "metadata": {
        "id": "20d97610"
      },
      "outputs": [],
      "source": [
        "from sklearn.model_selection import KFold\n",
        "from sklearn.model_selection import cross_val_score\n",
        "from numpy import mean\n",
        "from numpy import absolute"
      ]
    },
    {
      "cell_type": "code",
      "execution_count": null,
      "id": "e75764fd",
      "metadata": {
        "id": "e75764fd"
      },
      "outputs": [],
      "source": [
        "cv = KFold(n_splits=10, random_state=1, shuffle=True)"
      ]
    },
    {
      "cell_type": "code",
      "execution_count": null,
      "id": "3a413e81",
      "metadata": {
        "id": "3a413e81"
      },
      "outputs": [],
      "source": [
        "RF_Valmodel = RandomForestClassifier()"
      ]
    },
    {
      "cell_type": "code",
      "execution_count": null,
      "id": "291bccd9",
      "metadata": {
        "id": "291bccd9"
      },
      "outputs": [],
      "source": [
        "scores = cross_val_score(RF_Valmodel, X_train, y_train, scoring='neg_mean_absolute_error',cv=cv, n_jobs=-1)"
      ]
    },
    {
      "cell_type": "code",
      "execution_count": null,
      "id": "180f6024",
      "metadata": {
        "id": "180f6024",
        "outputId": "4d61f287-2ef2-4f7a-fb73-e428495de6fb"
      },
      "outputs": [
        {
          "data": {
            "text/plain": [
              "0.0"
            ]
          },
          "execution_count": 28,
          "metadata": {},
          "output_type": "execute_result"
        }
      ],
      "source": [
        "mean(absolute(scores))"
      ]
    }
  ],
  "metadata": {
    "kernelspec": {
      "display_name": "Python 3 (ipykernel)",
      "language": "python",
      "name": "python3"
    },
    "language_info": {
      "codemirror_mode": {
        "name": "ipython",
        "version": 3
      },
      "file_extension": ".py",
      "mimetype": "text/x-python",
      "name": "python",
      "nbconvert_exporter": "python",
      "pygments_lexer": "ipython3",
      "version": "3.9.7"
    },
    "colab": {
      "provenance": [],
      "include_colab_link": true
    }
  },
  "nbformat": 4,
  "nbformat_minor": 5
}